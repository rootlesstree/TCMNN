{
 "metadata": {
  "name": "",
  "signature": "sha256:6fee1f5c3f1c4bd4fb48d299e0c5a5a2021ecdd4bc829056c2362bca4b8ca2d6"
 },
 "nbformat": 3,
 "nbformat_minor": 0,
 "worksheets": [
  {
   "cells": [
    {
     "cell_type": "code",
     "collapsed": false,
     "input": [
      "%matplotlib inline\n",
      "from scipy import io\n",
      "import matplotlib.pyplot as plt\n",
      "import numpy as np\n",
      "import matplotlib.cm as cm\n",
      "from sklearn import cross_validation\n",
      "import random"
     ],
     "language": "python",
     "metadata": {},
     "outputs": [],
     "prompt_number": 3
    },
    {
     "cell_type": "code",
     "collapsed": false,
     "input": [
      "mat = io.loadmat('USPS.mat')\n",
      "data = mat['fea']\n",
      "labels = [a[0]-1 for a in mat['gnd']]"
     ],
     "language": "python",
     "metadata": {},
     "outputs": [],
     "prompt_number": 4
    },
    {
     "cell_type": "code",
     "collapsed": false,
     "input": [
      "plt.imshow(np.reshape(data[8],(16,16)),cmap = cm.gray_r)\n",
      "print labels[8]"
     ],
     "language": "python",
     "metadata": {},
     "outputs": [
      {
       "output_type": "stream",
       "stream": "stdout",
       "text": [
        "0\n"
       ]
      },
      {
       "metadata": {},
       "output_type": "display_data",
       "png": "[encoded data removed]",
       "text": [
        "<matplotlib.figure.Figure at 0x113bb9b10>"
       ]
      }
     ],
     "prompt_number": 28
    },
    {
     "cell_type": "code",
     "collapsed": false,
     "input": [
      "def dist_printer(Pvalues):\n",
      "    for i in range(20):\n",
      "        th = float(i)/20\n",
      "        print th,\" : \",len([p for p in Pvalues if p >= th and p < th + 0.05])\n",
      "\n",
      "def distance(X,Y):\n",
      "    s = 0\n",
      "    for i in range(len(X)):\n",
      "        s += (X[i]-Y[i])**2\n",
      "    return s\n",
      "\n",
      "def findKShortestDistanceWithinGroup(sample,groupData,K):\n",
      "    distVector = []\n",
      "    for data in groupData:\n",
      "        dist = Dist_Matrix[sample[1]][data[1]]\n",
      "        distVector.append(dist)\n",
      "\n",
      "    distVector.sort()\n",
      "    if(len(groupData)==1 and sample in groupData):\n",
      "        return [0]*K\n",
      "    else:\n",
      "        return distVector[0:K]\n"
     ],
     "language": "python",
     "metadata": {},
     "outputs": [],
     "prompt_number": 11
    },
    {
     "cell_type": "code",
     "collapsed": false,
     "input": [
      "if 'Dist_Matrix' not in locals():\n",
      "    import cPickle\n",
      "    pkl_file = open('usps_data.pkl', 'rb')\n",
      "    Dist_Matrix = cPickle.load(pkl_file)\n",
      "\n",
      "### Create Dataset\n",
      "skf = cross_validation.StratifiedKFold(labels, n_folds=3,random_state = 0)\n",
      "for train, test in skf:\n",
      "    train_index = train\n",
      "    test_index = test\n",
      "random.shuffle(train_index)\n",
      "random.shuffle(test_index)\n",
      "\n",
      "\n",
      "### Initialization for the containers\n",
      "thr = 0.1\n",
      "class_data = []\n",
      "alpha_values = [0 for i in range(len(train_index))]\n",
      "distSameGroupValues = [0 for i in range(len(train_index))]\n",
      "distDifferentGroupValues = [0 for i in range(len(train_index))]\n",
      "UpdatedSameGroupValues = [0 for i in range(len(train_index))]\n",
      "UpdatedDifferentGroupValues = [0 for i in range(len(train_index))]\n",
      "RegionPredictor = [0 for i in range(len(test_index))]\n",
      "\n",
      "for i in range(len(set(labels))):\n",
      "    class_data.append([])\n",
      "for ptr,i in enumerate(train_index):\n",
      "    class_data[labels[i]].append([data[i],i,ptr])\n",
      "\n",
      "## Calculate alphas within training data\n",
      "\n",
      "for classes in class_data:\n",
      "\n",
      "    different_classes = [c for c in class_data if c!=classes]\n",
      "    same_class = classes\n",
      "\n",
      "    for sample in classes:\n",
      "        index = sample[2]\n",
      "        if(len(same_class)==1):\n",
      "            distSameGroupValues[index] = 0.0\n",
      "        else:\n",
      "            DistInSameGroup = findKShortestDistanceWithinGroup(sample,same_class,2)\n",
      "            distSameGroupValues[index] = float(DistInSameGroup[1])\n",
      "\n",
      "        DistInDifferentGroups = []\n",
      "\n",
      "        for d_cls in different_classes:\n",
      "            distDiff = findKShortestDistanceWithinGroup(sample,d_cls,1)\n",
      "            if(len(distDiff) != 0):\n",
      "                DistInDifferentGroups.append(distDiff[0])\n",
      "\n",
      "        DistInDifferentGroups.sort()\n",
      "        distDifferentGroupValues[index] = float(DistInDifferentGroups[0])\n",
      "\n",
      "    \n",
      "## New coming sample from test set                                                                                                                                                                          \n",
      "\n",
      "for test in test_index:\n",
      "    next_data = [data[test],test]\n",
      "    p_values = []\n",
      "    label = labels[test]\n",
      "    for i in [0,1,2,3,4,5,6,7,8,9]:\n",
      "        #label = labels[test]\n",
      "        label = i\n",
      "        same_class = class_data[label]\n",
      "        different_classes = [c for c in class_data if c!=same_class]\n",
      "\n",
      "\n",
      "    ### Calculate the alpha value for the new coming sample                                                                                                                                                     \n",
      "        if(len(same_class)==0):\n",
      "            DistInSameGroup = [0]\n",
      "        else:\n",
      "            DistInSameGroup = findKShortestDistanceWithinGroup(next_data,same_class,1)\n",
      "    \n",
      "        DistInDifferentGroups = []\n",
      "        for d_cls in different_classes:\n",
      "            distDiff = findKShortestDistanceWithinGroup(next_data,d_cls,1)\n",
      "            if(len(distDiff) != 0):\n",
      "                DistInDifferentGroups.append(distDiff[0])\n",
      "\n",
      "        DistInDifferentGroups.sort()\n",
      "        alpha_new = float(DistInSameGroup[0])/DistInDifferentGroups[0]\n",
      "\n",
      "### Update the alpha value of exisiting training sample sequence                                                                                                                                            \n",
      "\n",
      "        for s_cls in same_class:\n",
      "            UpdatedDifferentGroupValues[s_cls[2]] = distDifferentGroupValues[s_cls[2]]\n",
      "            if(distSameGroupValues[s_cls[2]] > Dist_Matrix[next_data[1]][s_cls[1]]):\n",
      "                UpdatedSameGroupValues[s_cls[2]] = float(Dist_Matrix[next_data[1]][s_cls[1]])\n",
      "            else:\n",
      "                UpdatedSameGroupValues[s_cls[2]] = distSameGroupValues[s_cls[2]]\n",
      "\n",
      "        for d_classes in different_classes:\n",
      "            for d_cls in d_classes:\n",
      "                UpdatedSameGroupValues[d_cls[2]] = distSameGroupValues[d_cls[2]]\n",
      "                if (distDifferentGroupValues[d_cls[2]] > Dist_Matrix[next_data[1]][d_cls[1]]):\n",
      "                    UpdatedDifferentGroupValues[d_cls[2]] = float(Dist_Matrix[next_data[1]][d_cls[1]])\n",
      "                else:\n",
      "                    UpdatedDifferentGroupValues[d_cls[2]] = distDifferentGroupValues[d_cls[2]]\n",
      "\n",
      "        for i in range(len(alpha_values)):\n",
      "            alpha_values[i] = UpdatedSameGroupValues[i]/UpdatedDifferentGroupValues[i]\n",
      "\n",
      "### Calculate the P value for the new coming sample                                                                                                                                                         \n",
      "\n",
      "        p_value = float(len([a for a in alpha_values if a >= alpha_new]))/(len(alpha_values)+1)\n",
      "        p_values.append(p_value)\n",
      "    RegionPredictor.append([[p_values.index(p) for p in p_values if p >= thr],label])\n",
      "    \n",
      "## New coming sample from test set                                                                                                                                                                          \n",
      "for test in test_index:\n",
      "    next_data = [data[test],test]\n",
      "    p_values = []\n",
      "    label = labels[test]\n",
      "    for i in [0,1,2,3,4,5,6,7,8,9]:\n",
      "        #label = labels[test]\n",
      "        label = i\n",
      "        same_class = class_data[label]\n",
      "        different_classes = [c for c in class_data if c!=same_class]\n",
      "\n",
      "\n",
      "    ### Calculate the alpha value for the new coming sample                                                                                                                                                     \n",
      "        if(len(same_class)==0):\n",
      "            DistInSameGroup = [0]\n",
      "        else:\n",
      "            DistInSameGroup = findKShortestDistanceWithinGroup(next_data,same_class,1)\n",
      "    \n",
      "        DistInDifferentGroups = []\n",
      "        for d_cls in different_classes:\n",
      "            distDiff = findKShortestDistanceWithinGroup(next_data,d_cls,1)\n",
      "            if(len(distDiff) != 0):\n",
      "                DistInDifferentGroups.append(distDiff[0])\n",
      "\n",
      "        DistInDifferentGroups.sort()\n",
      "        alpha_new = float(DistInSameGroup[0])/DistInDifferentGroups[0]\n",
      "\n",
      "### Update the alpha value of exisiting training sample sequence                                                                                                                                            \n",
      "\n",
      "        for s_cls in same_class:\n",
      "            UpdatedDifferentGroupValues[s_cls[2]] = distDifferentGroupValues[s_cls[2]]\n",
      "            if(distSameGroupValues[s_cls[2]] > Dist_Matrix[next_data[1]][s_cls[1]]):\n",
      "                UpdatedSameGroupValues[s_cls[2]] = float(Dist_Matrix[next_data[1]][s_cls[1]])\n",
      "            else:\n",
      "                UpdatedSameGroupValues[s_cls[2]] = distSameGroupValues[s_cls[2]]\n",
      "\n",
      "        for d_classes in different_classes:\n",
      "            for d_cls in d_classes:\n",
      "                UpdatedSameGroupValues[d_cls[2]] = distSameGroupValues[d_cls[2]]\n",
      "                if (distDifferentGroupValues[d_cls[2]] > Dist_Matrix[next_data[1]][d_cls[1]]):\n",
      "                    UpdatedDifferentGroupValues[d_cls[2]] = float(Dist_Matrix[next_data[1]][d_cls[1]])\n",
      "                else:\n",
      "                    UpdatedDifferentGroupValues[d_cls[2]] = distDifferentGroupValues[d_cls[2]]\n",
      "\n",
      "        for i in range(len(alpha_values)):\n",
      "            alpha_values[i] = UpdatedSameGroupValues[i]/UpdatedDifferentGroupValues[i]\n",
      "\n",
      "### Calculate the P value for the new coming sample                                                                                                                                                         \n",
      "\n",
      "        p_value = float(len([a for a in alpha_values if a >= alpha_new]))/(len(alpha_values)+1)\n",
      "        p_values.append(p_value)\n",
      "    RegionPredictor.append([[p_values.index(p) for p in p_values if p >= thr],label])"
     ],
     "language": "python",
     "metadata": {},
     "outputs": [],
     "prompt_number": 61
    },
    {
     "cell_type": "code",
     "collapsed": false,
     "input": [
      "\"^^^^^^^^^^^^^^^ TRADITION------------------------------ SHUFFLE vvvvvvvvvvvvvvvvvvvvvvvvvvvvvvv\""
     ],
     "language": "python",
     "metadata": {},
     "outputs": [
      {
       "metadata": {},
       "output_type": "pyout",
       "prompt_number": 236,
       "text": [
        "'------------------------------'"
       ]
      }
     ],
     "prompt_number": 236
    },
    {
     "cell_type": "code",
     "collapsed": false,
     "input": [
      "############ Shuffle TCMNN  ####################\n",
      "\n",
      "\n",
      "def Statistic_Printer(Pvalues,RegionPredictor,):\n",
      "    total_correctness = len([R for R in RegionPredictor if R[0]==R[1] or len(R[0])==0])\n",
      "    total_instances = float(len(RegionPredictor))\n",
      "    print \"Total Accuracy : \",total_correctness/total_instances\n",
      "    print \"\\n\\n\"\n",
      "    print \"Wrong Label Percentage : \",len([R for R in RegionPredictor if R[1] not in R[0] and len(R[0])>=1 ])/total_instances\n",
      "    print \"\\n\\n\"\n",
      "    print \"Empty Prediction Percentage : \",len([R for R in RegionPredictor if len(R[0])==0])/total_instances\n",
      "    print \"\\n\\n\"\n",
      "    print \"Correct One Label Percentage : \", len([R for R in RegionPredictor if R[0]==R[1]])/total_instances \n",
      "    print \"\\n\\n\"\n",
      "    print \" > 1 class label percentage : \", len([R for R in RegionPredictor if len(R[0]) > 1])/total_instances\n",
      "    \n",
      "    print \"Correct P values Distribution :\"\n",
      "    \n",
      "    for i in range(20):\n",
      "        th = float(i)/20\n",
      "        print th,\" : \",len([p for p in Pvalues if p >= th and p < th + 0.05])\n",
      "\n",
      "def distance(X,Y):\n",
      "    s = 0\n",
      "    for i in range(len(X)):\n",
      "        s += (X[i]-Y[i])**2\n",
      "    return s\n",
      "\n",
      "def findKShortestDistanceWithinGroup(sample,groupData,K):\n",
      "    distVector = []\n",
      "    for data in groupData:\n",
      "        dist = Dist_Matrix[sample[2]][data[2]]\n",
      "        distVector.append(dist)\n",
      "\n",
      "    distVector.sort()\n",
      "    if(len(groupData)==1 and sample in groupData):\n",
      "        return [0]*K\n",
      "    else:\n",
      "        return distVector[0:K]\n",
      "\n",
      "\n",
      "\n",
      "if 'Dist_Matrix' not in locals():\n",
      "    import cPickle\n",
      "    pkl_file = open('usps_Matrix.pkl', 'rb')\n",
      "    Dist_Matrix = cPickle.load(pkl_file)\n",
      "\n",
      "### Create Dataset\n",
      "\n",
      "X_train, X_test, y_train, y_test = cross_validation.train_test_split(data, labels, test_size=0.2, random_state=50)\n",
      "\n",
      "\n",
      "original_data = [list(d) for d in data]\n",
      "index_train = [original_data.index(list(x)) for x in X_train]\n",
      "index_test = [original_data.index(list(y)) for y in X_test]\n",
      "\n",
      "### Initialization for the containers\n",
      "thr = 0.05\n",
      "class_data = []\n",
      "alpha_values = [0 for i in range(len(X_train))]\n",
      "distSameGroupValues = [0 for i in range(len(X_train))]\n",
      "distDifferentGroupValues = [0 for i in range(len(X_train))]\n",
      "UpdatedSameGroupValues = [0 for i in range(len(X_train))]\n",
      "UpdatedDifferentGroupValues = [0 for i in range(len(X_train))]\n",
      "RegionPredictor = []\n",
      "P_value_recorder = []\n",
      "\n",
      "for i in range(len(set(labels))):\n",
      "    class_data.append([])\n",
      "    \n",
      "for ptr,d in enumerate(X_train):\n",
      "    class_data[y_train[ptr]].append([d,ptr,index_train[ptr]])\n",
      "\n",
      "## Calculate alphas within training data\n",
      "\n",
      "for c_num,classes in enumerate(class_data):\n",
      "\n",
      "    different_classes = [c for pos,c in enumerate(class_data) if pos!=c_num]\n",
      "    same_class = classes\n",
      "\n",
      "    for sample in classes:\n",
      "        index = sample[1]\n",
      "        if(len(same_class)==1):\n",
      "            distSameGroupValues[index] = 0.0\n",
      "        else:\n",
      "            DistInSameGroup = findKShortestDistanceWithinGroup(sample,same_class,2)\n",
      "            distSameGroupValues[index] = float(DistInSameGroup[1])\n",
      "\n",
      "        DistInDifferentGroups = []\n",
      "\n",
      "        for d_cls in different_classes:\n",
      "            distDiff = findKShortestDistanceWithinGroup(sample,d_cls,1)\n",
      "            if(len(distDiff) != 0):\n",
      "                DistInDifferentGroups.append(distDiff[0])\n",
      "\n",
      "        DistInDifferentGroups.sort()\n",
      "        distDifferentGroupValues[index] = float(DistInDifferentGroups[0])\n",
      "\n",
      "RegionPredictor = []\n",
      "## New coming sample from test set                                                                                                                                                                          \n",
      "for ptr,test in enumerate(X_test):\n",
      "    next_data = [test,ptr,index_test[ptr]]\n",
      "    p_values = []\n",
      "    test_label = y_test[ptr]\n",
      "    for l in [0,1,2,3,4,5,6,7,8,9]:\n",
      "        #label = labels[test]\n",
      "        label = l\n",
      "        same_class = class_data[label]\n",
      "        different_classes = [c for pos,c in enumerate(class_data) if pos!=label]\n",
      "\n",
      "    ### Calculate the alpha value for the new coming sample                                                                                                                                                     \n",
      "        if(len(same_class)==0):\n",
      "            DistInSameGroup = [0]\n",
      "        else:\n",
      "            DistInSameGroup = findKShortestDistanceWithinGroup(next_data,same_class,1)\n",
      "    \n",
      "        DistInDifferentGroups = []\n",
      "        for d_cls in different_classes:\n",
      "            distDiff = findKShortestDistanceWithinGroup(next_data,d_cls,1)\n",
      "            if(len(distDiff) != 0):\n",
      "                DistInDifferentGroups.append(distDiff[0])\n",
      "\n",
      "        DistInDifferentGroups.sort()\n",
      "        alpha_new = float(DistInSameGroup[0])/DistInDifferentGroups[0]\n",
      "\n",
      "### Update the alpha value of exisiting training sample sequence                                                                                                                                            \n",
      "\n",
      "        for s_cls in same_class:\n",
      "            UpdatedDifferentGroupValues[s_cls[1]] = distDifferentGroupValues[s_cls[1]]\n",
      "            if(distSameGroupValues[s_cls[1]] > Dist_Matrix[next_data[2]][s_cls[2]]):\n",
      "                UpdatedSameGroupValues[s_cls[1]] = float(Dist_Matrix[next_data[2]][s_cls[2]])\n",
      "            else:\n",
      "                UpdatedSameGroupValues[s_cls[1]] = distSameGroupValues[s_cls[1]]\n",
      "\n",
      "        for d_classes in different_classes:\n",
      "            for d_cls in d_classes:\n",
      "                UpdatedSameGroupValues[d_cls[1]] = distSameGroupValues[d_cls[1]]\n",
      "                if (distDifferentGroupValues[d_cls[1]] > Dist_Matrix[next_data[2]][d_cls[2]]):\n",
      "                    UpdatedDifferentGroupValues[d_cls[1]] = float(Dist_Matrix[next_data[2]][d_cls[2]])\n",
      "                else:\n",
      "                    UpdatedDifferentGroupValues[d_cls[1]] = distDifferentGroupValues[d_cls[1]]\n",
      "\n",
      "        for i in range(len(alpha_values)):\n",
      "            alpha_values[i] = UpdatedSameGroupValues[i]/UpdatedDifferentGroupValues[i]\n",
      "\n",
      "### Calculate the P value for the new coming sample                                                                                                                                                         \n",
      "\n",
      "        p_value = float(len([a for a in alpha_values if a >= alpha_new]))/(len(alpha_values)+1)\n",
      "        p_values.append(p_value)\n",
      "    P_value_recorder.append(p_values[test_label])\n",
      "    RegionPredictor.append([[p_values.index(p) for p in p_values if p >= thr],test_label])\n"
     ],
     "language": "python",
     "metadata": {},
     "outputs": [
      {
       "ename": "EOFError",
       "evalue": "",
       "output_type": "pyerr",
       "traceback": [
        "\u001b[0;31m---------------------------------------------------------------------------\u001b[0m\n\u001b[0;31mEOFError\u001b[0m                                  Traceback (most recent call last)",
        "\u001b[0;32m<ipython-input-1-a8dfedf1a934>\u001b[0m in \u001b[0;36m<module>\u001b[0;34m()\u001b[0m\n\u001b[1;32m     44\u001b[0m     \u001b[0;32mimport\u001b[0m \u001b[0mcPickle\u001b[0m\u001b[0;34m\u001b[0m\u001b[0m\n\u001b[1;32m     45\u001b[0m     \u001b[0mpkl_file\u001b[0m \u001b[0;34m=\u001b[0m \u001b[0mopen\u001b[0m\u001b[0;34m(\u001b[0m\u001b[0;34m'usps_Matrix.pkl'\u001b[0m\u001b[0;34m,\u001b[0m \u001b[0;34m'rb'\u001b[0m\u001b[0;34m)\u001b[0m\u001b[0;34m\u001b[0m\u001b[0m\n\u001b[0;32m---> 46\u001b[0;31m     \u001b[0mDist_Matrix\u001b[0m \u001b[0;34m=\u001b[0m \u001b[0mcPickle\u001b[0m\u001b[0;34m.\u001b[0m\u001b[0mload\u001b[0m\u001b[0;34m(\u001b[0m\u001b[0mpkl_file\u001b[0m\u001b[0;34m)\u001b[0m\u001b[0;34m\u001b[0m\u001b[0m\n\u001b[0m\u001b[1;32m     47\u001b[0m \u001b[0;34m\u001b[0m\u001b[0m\n\u001b[1;32m     48\u001b[0m \u001b[0;31m### Create Dataset\u001b[0m\u001b[0;34m\u001b[0m\u001b[0;34m\u001b[0m\u001b[0m\n",
        "\u001b[0;31mEOFError\u001b[0m: "
       ]
      }
     ],
     "prompt_number": 1
    },
    {
     "cell_type": "code",
     "collapsed": false,
     "input": [
      "Statistic_Printer(P_value_recorder,RegionPredictor)"
     ],
     "language": "python",
     "metadata": {},
     "outputs": [
      {
       "output_type": "stream",
       "stream": "stdout",
       "text": [
        "Total Accuracy :  0.987096774194\n",
        "\n",
        "\n",
        "\n",
        "Wrong Label Percentage :  0.0129032258065\n",
        "\n",
        "\n",
        "\n",
        "Empty Prediction Percentage :  0.0370967741935\n",
        "\n",
        "\n",
        "\n",
        "Correct One Label Percentage :  0.95\n",
        "\n",
        "\n",
        "\n",
        " > 1 class label percentage :  0.0\n",
        "Correct P values Distribution :\n",
        "0.0  :  93\n",
        "0.05  :  87\n",
        "0.1  :  98\n",
        "0.15  :  73\n",
        "0.2  :  93\n",
        "0.25  :  75\n",
        "0.3  :  95\n",
        "0.35  :  91\n",
        "0.4  :  100\n",
        "0.45  :  99\n",
        "0.5  :  98\n",
        "0.55  :  94\n",
        "0.6  :  75\n",
        "0.65  :  108\n",
        "0.7  :  89\n",
        "0.75  :  102\n",
        "0.8  :  101\n",
        "0.85  :  100\n",
        "0.9  :  108\n",
        "0.95  :  81\n"
       ]
      }
     ],
     "prompt_number": 323
    },
    {
     "cell_type": "code",
     "collapsed": false,
     "input": [
      "for p,d in enumerate(data):\n",
      "    print p\n",
      "    for i in range(p+1,len(data)):\n",
      "        Dist_Matrix[p][p] = 0.0000000000001\n",
      "        Dist_Matrix[p][i] = distance(data[p],data[i])\n",
      "        Dist_Matrix[i][p] = Dist_Matrix[p][i]"
     ],
     "language": "python",
     "metadata": {},
     "outputs": [
      {
       "output_type": "stream",
       "stream": "stdout",
       "text": [
        "0\n",
        "1"
       ]
      },
      {
       "output_type": "stream",
       "stream": "stdout",
       "text": [
        "\n",
        "2"
       ]
      },
      {
       "output_type": "stream",
       "stream": "stdout",
       "text": [
        "\n",
        "3"
       ]
      },
      {
       "output_type": "stream",
       "stream": "stdout",
       "text": [
        "\n",
        "4"
       ]
      },
      {
       "output_type": "stream",
       "stream": "stdout",
       "text": [
        "\n",
        "5"
       ]
      },
      {
       "output_type": "stream",
       "stream": "stdout",
       "text": [
        "\n",
        "6"
       ]
      },
      {
       "output_type": "stream",
       "stream": "stdout",
       "text": [
        "\n",
        "7"
       ]
      },
      {
       "output_type": "stream",
       "stream": "stdout",
       "text": [
        "\n",
        "8"
       ]
      },
      {
       "output_type": "stream",
       "stream": "stdout",
       "text": [
        "\n",
        "9"
       ]
      },
      {
       "output_type": "stream",
       "stream": "stdout",
       "text": [
        "\n",
        "10"
       ]
      },
      {
       "output_type": "stream",
       "stream": "stdout",
       "text": [
        "\n",
        "11"
       ]
      },
      {
       "output_type": "stream",
       "stream": "stdout",
       "text": [
        "\n",
        "12"
       ]
      },
      {
       "output_type": "stream",
       "stream": "stdout",
       "text": [
        "\n",
        "13"
       ]
      },
      {
       "output_type": "stream",
       "stream": "stdout",
       "text": [
        "\n",
        "14"
       ]
      },
      {
       "output_type": "stream",
       "stream": "stdout",
       "text": [
        "\n",
        "15"
       ]
      },
      {
       "output_type": "stream",
       "stream": "stdout",
       "text": [
        "\n",
        "16"
       ]
      },
      {
       "output_type": "stream",
       "stream": "stdout",
       "text": [
        "\n",
        "17"
       ]
      },
      {
       "output_type": "stream",
       "stream": "stdout",
       "text": [
        "\n",
        "18"
       ]
      },
      {
       "output_type": "stream",
       "stream": "stdout",
       "text": [
        "\n",
        "19"
       ]
      },
      {
       "output_type": "stream",
       "stream": "stdout",
       "text": [
        "\n",
        "20"
       ]
      },
      {
       "output_type": "stream",
       "stream": "stdout",
       "text": [
        "\n",
        "21"
       ]
      }
     ]
    },
    {
     "cell_type": "code",
     "collapsed": false,
     "input": [
      "print len([R for R in RegionPredictor if len(R[0]) == 0])\n",
      "print len([R for R in RegionPredictor if R[0]==R[1]])\n",
      "print len([R for R in RegionPredictor if R[0]==R[1] or len(R[0])==0])"
     ],
     "language": "python",
     "metadata": {},
     "outputs": [
      {
       "output_type": "stream",
       "stream": "stdout",
       "text": [
        "69\n",
        "1767\n",
        "1836\n"
       ]
      }
     ],
     "prompt_number": 317
    },
    {
     "cell_type": "code",
     "collapsed": false,
     "input": [],
     "language": "python",
     "metadata": {},
     "outputs": [
      {
       "metadata": {},
       "output_type": "pyout",
       "prompt_number": 10,
       "text": [
        "9298"
       ]
      }
     ],
     "prompt_number": 10
    },
    {
     "cell_type": "code",
     "collapsed": false,
     "input": [
      "plt.imshow(np.reshape(X_test[0],(16,16)),cmap = cm.gray_r)"
     ],
     "language": "python",
     "metadata": {},
     "outputs": [
      {
       "metadata": {},
       "output_type": "pyout",
       "prompt_number": 159,
       "text": [
        "<matplotlib.image.AxesImage at 0x117dde450>"
       ]
      },
      {
       "metadata": {},
       "output_type": "display_data",
       "png": "[encoded data removed]",
       "text": [
        "<matplotlib.figure.Figure at 0x16c4a7650>"
       ]
      }
     ],
     "prompt_number": 159
    }
   ],
   "metadata": {}
  }
 ]
}